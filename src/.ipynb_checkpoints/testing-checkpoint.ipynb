{
 "cells": [
  {
   "cell_type": "code",
   "execution_count": 1,
   "id": "ddf8a4a9-cf46-4b4a-a35d-a28be6c56b70",
   "metadata": {},
   "outputs": [],
   "source": [
    "import pandas as pd"
   ]
  },
  {
   "cell_type": "code",
   "execution_count": 9,
   "id": "a41c6bf8-971c-4fab-8aba-de15d5c1e03e",
   "metadata": {},
   "outputs": [],
   "source": [
    "def load_csv(file_path):\n",
    "    df = pd.read_csv(file_path, header=None)\n",
    "    return df"
   ]
  },
  {
   "cell_type": "code",
   "execution_count": 10,
   "id": "9cd78cd5-4b1e-4e1b-bc65-118f8d5b6e7a",
   "metadata": {},
   "outputs": [],
   "source": [
    "example = load_csv(\"../tests/product_of_two_col.csv\")"
   ]
  },
  {
   "cell_type": "code",
   "execution_count": 28,
   "id": "01d03630-d99e-4d03-b75b-715cd8a023f7",
   "metadata": {},
   "outputs": [
    {
     "data": {
      "text/plain": [
       "5"
      ]
     },
     "execution_count": 28,
     "metadata": {},
     "output_type": "execute_result"
    }
   ],
   "source": [
    "valid = example[2].dropna()\n",
    "len(valid)"
   ]
  },
  {
   "cell_type": "code",
   "execution_count": 39,
   "id": "bfda4bcd-8978-480e-ac4d-892068086cf7",
   "metadata": {},
   "outputs": [
    {
     "data": {
      "text/plain": [
       "0.0"
      ]
     },
     "execution_count": 39,
     "metadata": {},
     "output_type": "execute_result"
    }
   ],
   "source": [
    "example[2][0]"
   ]
  },
  {
   "cell_type": "code",
   "execution_count": 29,
   "id": "bfb86625-d435-4ffb-8e8e-ab94dadfb26e",
   "metadata": {},
   "outputs": [
    {
     "data": {
      "text/plain": [
       "0      0.0\n",
       "1      8.0\n",
       "2      6.0\n",
       "3     24.0\n",
       "4    100.0\n",
       "Name: 2, dtype: float64"
      ]
     },
     "execution_count": 29,
     "metadata": {},
     "output_type": "execute_result"
    }
   ],
   "source": [
    "valid"
   ]
  },
  {
   "cell_type": "code",
   "execution_count": 30,
   "id": "0224477c-e794-486c-be8a-45887d165f77",
   "metadata": {},
   "outputs": [],
   "source": [
    "import math"
   ]
  },
  {
   "cell_type": "code",
   "execution_count": 13,
   "id": "b21a8b38-4927-4724-8b0a-e35fb7d18ea4",
   "metadata": {},
   "outputs": [
    {
     "name": "stdout",
     "output_type": "stream",
     "text": [
      "     0   1      2\n",
      "0    1   0    0.0\n",
      "1    2   4    8.0\n",
      "2    2   3    6.0\n",
      "3    3   8   24.0\n",
      "4   10  10  100.0\n",
      "5    5   5    NaN\n",
      "6    4   4    NaN\n",
      "7   19   4    NaN\n",
      "8    2  21    NaN\n",
      "9    1  21    NaN\n",
      "10   9  10    NaN\n",
      "11   7   7    NaN\n",
      "12   4   4    NaN\n",
      "13   3   3    NaN\n",
      "14  12   3    NaN\n",
      "15   4  16    NaN\n",
      "16   1  16    NaN\n",
      "17  26  27    NaN\n",
      "18   8   8    NaN\n",
      "19   3   3    NaN\n",
      "20   3   3    NaN\n",
      "21   8  11    NaN\n",
      "22   4   4    NaN\n"
     ]
    }
   ],
   "source": [
    "def ez_rel(example, fill_col=2, cand=0):\n",
    "    valid = example[fill_col].dropna()\n",
    "    number = len(valid)\n",
    "    cands = ['+', '-1', '-2','*','/1','/2','max','min','avg']\n",
    "    for i in range(len(cands)):\n",
    "        cand = i\n",
    "        pos = True\n",
    "        for j in range(number):\n",
    "            if cands[cand]==\"+\" and (if not math.isclose(example[0][j]+example[1][j], example[2][j], abs_tol=0.001)):\n",
    "                pos = False\n",
    "            elif cands[cand]==\"-1\" and (if not math.isclose(example[0][j]-example[1][j], example[2][j], abs_tol=0.001)):\n",
    "                pos = False\n",
    "            elif cands[cand]==\"-2\" and (if not math.isclose(example[1][j]-example[0][j], example[2][j], abs_tol=0.001)):\n",
    "                pos = False\n",
    "            elif cands[cand]==\"*\" and (if not math.isclose(example[0][j]*example[1][j], example[2][j], abs_tol=0.001)):\n",
    "                pos = False\n",
    "            elif cands[cand]==\"/1\":\n",
    "                try:\n",
    "                    temp = example[0][j]/example[1][j]\n",
    "                except ZeroDivisionError:\n",
    "                    temp = 0\n",
    "                if not math.isclose(temp, example[2][j]):\n",
    "                    pos = False \n",
    "            elif cands[cand]==\"/2\":\n",
    "                try:\n",
    "                    temp = example[1][j]/example[0][j]\n",
    "                except ZeroDivisionError:\n",
    "                    temp = 0\n",
    "                if not math.isclose(temp, example[2][j]):\n",
    "                    pos = False \n",
    "            elif cands[cand]==\"max\" and (if not math.isclose(max(example[0][j], example[1][j]), example[2][j], abs_tol=0.001)):\n",
    "                pos = False \n",
    "            elif cands[cand]==\"min\" and (if not math.isclose(min(example[0][j], example[1][j]), example[2][j], abs_tol=0.001)):\n",
    "                pos = False\n",
    "            elif cands[cand]==\"avg\" and (if not math.isclose((example[0][j]+example[1][j])/2, example[2][j], abs_tol=0.001)):\n",
    "                pos = False\n",
    "                \n",
    "            if not pos:\n",
    "                break\n",
    "        return cands[cand], cand\n",
    "    return None, cand"
   ]
  },
  {
   "cell_type": "code",
   "execution_count": 37,
   "id": "731a2b4a-13e0-4f5b-991a-efe8f57bb264",
   "metadata": {},
   "outputs": [
    {
     "ename": "AttributeError",
     "evalue": "module 'math' has no attribute 'avg'",
     "output_type": "error",
     "traceback": [
      "\u001b[0;31m---------------------------------------------------------------------------\u001b[0m",
      "\u001b[0;31mAttributeError\u001b[0m                            Traceback (most recent call last)",
      "Cell \u001b[0;32mIn [37], line 1\u001b[0m\n\u001b[0;32m----> 1\u001b[0m \u001b[43mmath\u001b[49m\u001b[38;5;241;43m.\u001b[39;49m\u001b[43mavg\u001b[49m([\u001b[38;5;241m1\u001b[39m,\u001b[38;5;241m2\u001b[39m])\n",
      "\u001b[0;31mAttributeError\u001b[0m: module 'math' has no attribute 'avg'"
     ]
    }
   ],
   "source": [
    "math.avg([1,2])"
   ]
  },
  {
   "cell_type": "code",
   "execution_count": null,
   "id": "71fe426e-4cc3-41fc-8bc4-2a5692904df0",
   "metadata": {},
   "outputs": [],
   "source": []
  }
 ],
 "metadata": {
  "kernelspec": {
   "display_name": "Python 3 (ipykernel)",
   "language": "python",
   "name": "python3"
  },
  "language_info": {
   "codemirror_mode": {
    "name": "ipython",
    "version": 3
   },
   "file_extension": ".py",
   "mimetype": "text/x-python",
   "name": "python",
   "nbconvert_exporter": "python",
   "pygments_lexer": "ipython3",
   "version": "3.9.12"
  }
 },
 "nbformat": 4,
 "nbformat_minor": 5
}
