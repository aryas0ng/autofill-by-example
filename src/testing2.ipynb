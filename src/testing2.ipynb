{
 "cells": [
  {
   "cell_type": "code",
   "execution_count": 2,
   "id": "ee37ecc0-6621-45fe-b64b-4911afd8c61b",
   "metadata": {},
   "outputs": [],
   "source": [
    "import pandas as pd"
   ]
  },
  {
   "cell_type": "code",
   "execution_count": 3,
   "id": "df526e7a-9311-4c22-ba5e-03ad933ecf59",
   "metadata": {},
   "outputs": [],
   "source": [
    "def load_csv(file_path):\n",
    "    df = pd.read_csv(file_path, header=None)\n",
    "    return df"
   ]
  },
  {
   "cell_type": "code",
   "execution_count": 4,
   "id": "9f259e87-7924-481f-8a76-b50f2c897500",
   "metadata": {},
   "outputs": [],
   "source": [
    "example = load_csv(\"../tests/refactoring.csv\")"
   ]
  },
  {
   "cell_type": "code",
   "execution_count": 5,
   "id": "e8fd2ba3-6c86-498b-a472-b47b0ab70a55",
   "metadata": {},
   "outputs": [
    {
     "data": {
      "text/html": [
       "<div>\n",
       "<style scoped>\n",
       "    .dataframe tbody tr th:only-of-type {\n",
       "        vertical-align: middle;\n",
       "    }\n",
       "\n",
       "    .dataframe tbody tr th {\n",
       "        vertical-align: top;\n",
       "    }\n",
       "\n",
       "    .dataframe thead th {\n",
       "        text-align: right;\n",
       "    }\n",
       "</style>\n",
       "<table border=\"1\" class=\"dataframe\">\n",
       "  <thead>\n",
       "    <tr style=\"text-align: right;\">\n",
       "      <th></th>\n",
       "      <th>0</th>\n",
       "      <th>1</th>\n",
       "    </tr>\n",
       "  </thead>\n",
       "  <tbody>\n",
       "    <tr>\n",
       "      <th>0</th>\n",
       "      <td>568-862-697</td>\n",
       "      <td>(568)-862-697</td>\n",
       "    </tr>\n",
       "    <tr>\n",
       "      <th>1</th>\n",
       "      <td>123-567-890</td>\n",
       "      <td>(123)-567-890</td>\n",
       "    </tr>\n",
       "    <tr>\n",
       "      <th>2</th>\n",
       "      <td>421--134-143</td>\n",
       "      <td>(421)-134-143</td>\n",
       "    </tr>\n",
       "    <tr>\n",
       "      <th>3</th>\n",
       "      <td>341-134-536</td>\n",
       "      <td>NaN</td>\n",
       "    </tr>\n",
       "    <tr>\n",
       "      <th>4</th>\n",
       "      <td>254-245-455</td>\n",
       "      <td>NaN</td>\n",
       "    </tr>\n",
       "    <tr>\n",
       "      <th>5</th>\n",
       "      <td>(254)-245-254</td>\n",
       "      <td>NaN</td>\n",
       "    </tr>\n",
       "    <tr>\n",
       "      <th>6</th>\n",
       "      <td>657-456-356</td>\n",
       "      <td>NaN</td>\n",
       "    </tr>\n",
       "    <tr>\n",
       "      <th>7</th>\n",
       "      <td>365=356-324</td>\n",
       "      <td>NaN</td>\n",
       "    </tr>\n",
       "    <tr>\n",
       "      <th>8</th>\n",
       "      <td>189-248-823</td>\n",
       "      <td>NaN</td>\n",
       "    </tr>\n",
       "    <tr>\n",
       "      <th>9</th>\n",
       "      <td>819-459-159</td>\n",
       "      <td>NaN</td>\n",
       "    </tr>\n",
       "  </tbody>\n",
       "</table>\n",
       "</div>"
      ],
      "text/plain": [
       "               0              1\n",
       "0    568-862-697  (568)-862-697\n",
       "1    123-567-890  (123)-567-890\n",
       "2   421--134-143  (421)-134-143\n",
       "3    341-134-536            NaN\n",
       "4    254-245-455            NaN\n",
       "5  (254)-245-254            NaN\n",
       "6    657-456-356            NaN\n",
       "7    365=356-324            NaN\n",
       "8    189-248-823            NaN\n",
       "9    819-459-159            NaN"
      ]
     },
     "execution_count": 5,
     "metadata": {},
     "output_type": "execute_result"
    }
   ],
   "source": [
    "example"
   ]
  },
  {
   "cell_type": "code",
   "execution_count": 11,
   "id": "bcd633cc-c493-4fb5-98d0-842ecd97ead1",
   "metadata": {},
   "outputs": [
    {
     "name": "stdout",
     "output_type": "stream",
     "text": [
      "<class 'str'>\n",
      "<class 'str'>\n",
      "<class 'str'>\n",
      "<class 'float'>\n",
      "<class 'float'>\n",
      "<class 'float'>\n",
      "<class 'float'>\n",
      "<class 'float'>\n",
      "<class 'float'>\n",
      "<class 'float'>\n"
     ]
    }
   ],
   "source": [
    "\n",
    "    "
   ]
  },
  {
   "cell_type": "code",
   "execution_count": 5,
   "id": "a712a86b-4b00-4dc5-9ebe-d1d3abea9ac4",
   "metadata": {},
   "outputs": [
    {
     "data": {
      "text/plain": [
       "3"
      ]
     },
     "execution_count": 5,
     "metadata": {},
     "output_type": "execute_result"
    }
   ],
   "source": [
    "valid = example[1].dropna()\n",
    "len(valid)"
   ]
  },
  {
   "cell_type": "code",
   "execution_count": 6,
   "id": "372415d6-3596-4759-984c-b4c68de09d9b",
   "metadata": {},
   "outputs": [],
   "source": [
    "from string import punctuation"
   ]
  },
  {
   "cell_type": "code",
   "execution_count": 7,
   "id": "61f1e89e-af1a-43b9-8241-bd62e2976c2c",
   "metadata": {},
   "outputs": [
    {
     "data": {
      "text/plain": [
       "'!\"#$%&\\'()*+,-./:;<=>?@[\\\\]^_`{|}~'"
      ]
     },
     "execution_count": 7,
     "metadata": {},
     "output_type": "execute_result"
    }
   ],
   "source": [
    "punctuation"
   ]
  },
  {
   "cell_type": "code",
   "execution_count": 36,
   "id": "252eebeb-01b1-485a-9c3a-16e5b7115c36",
   "metadata": {},
   "outputs": [],
   "source": [
    "def string_format(example, fill_col=2, cand=0):\n",
    "    valid = example[fill_col].dropna()\n",
    "    number = len(valid)\n",
    "    start1 = str(example[0][0]).strip()\n",
    "    start2 = str(valid[0]).strip()\n",
    "    cands = ['extract', 'concat', 'refactoring', 'complex']\n",
    "    pos = start1.find(start2)\n",
    "    cand = 0 \n",
    "    okay = True\n",
    "    if pos != -1:\n",
    "        context= [None, None]\n",
    "        if pos==0:\n",
    "            context[0]='start'\n",
    "        else:\n",
    "            context[0]=start1[pos-1]\n",
    "        if pos+len(start2)==len(start1):\n",
    "            context[1]='end'\n",
    "        else:\n",
    "            context[1]=start1[pos+len(start2)]  \n",
    "        for i in range(1,number):\n",
    "            start1 = example[0][i]\n",
    "            start2 = valid[i]\n",
    "            if context[0] == 'start':\n",
    "                temp = start1[0:start1.find(context[1])]\n",
    "                if temp != start2:\n",
    "                    okay = False\n",
    "                    break\n",
    "            elif context[1] == 'end':\n",
    "                temp = start1[start1.rfind(context[0])+1:]\n",
    "                if temp != start2:\n",
    "                    okay = False\n",
    "                    break\n",
    "            else:\n",
    "                left = start1.find(context[0])\n",
    "                right = start1.rfind(context[1])\n",
    "                \n",
    "                temp = start1[left+1:right]\n",
    "                while temp != start2 and left < right:\n",
    "                    right = start1.rfind(context[1], 0, right)\n",
    "                    temp = start1[left+1:right]\n",
    "                if temp == start2:\n",
    "                    break\n",
    "                right = start1.rfind(context[1])\n",
    "                temp = start1[left+1:right]\n",
    "                while temp != start2 and left < right:\n",
    "                    left = start1.find(context[0], left+1)\n",
    "                    temp = start1[left+1:right]\n",
    "                if temp == start2:\n",
    "                    break\n",
    "                okay = False\n",
    "                break\n",
    "        if okay:\n",
    "            return cands[cand], cand\n",
    "    cand = 1 \n",
    "    okay = True\n",
    "    pos = start2.find(start1)\n",
    "    if pos != -1:\n",
    "        before = start2[:pos]\n",
    "        after = start2[pos+len(start1):]\n",
    "        for i in range(1, number):\n",
    "            start1 = example[0][i]\n",
    "            start2 = valid[i]\n",
    "            if before+start1+after != start2 and start1 != start2:\n",
    "                okay = False \n",
    "                break \n",
    "        if okay:\n",
    "            return cands[cand], cand  \n",
    "    cand = 2\n",
    "    okay = True \n",
    "    origin = start1.lower()\n",
    "    origin_lst = []\n",
    "    goal = start2.lower()\n",
    "    goal_lst = []\n",
    "    ifpunc = False\n",
    "    if goal[0] not in punctuation:\n",
    "        goal_lst.append(\"\")\n",
    "        ifpunc = False\n",
    "    else:\n",
    "        goal_lst.append(goal[0])\n",
    "        ifpunc = True\n",
    "    for i in range(1,len(goal)):\n",
    "        if goal[i] in punctuation and ifpunc:\n",
    "            goal_lst[-1] += goal[i]\n",
    "        elif goal[i] in punctuation and not ifpunc:\n",
    "            goal_lst.append(goal[i])\n",
    "            ifpunc = True\n",
    "        elif goal[i] not in punctuation and ifpunc:\n",
    "            ifpunc = False\n",
    "    if not ifpunc: goal_lst.append(\"\")\n",
    "    \n",
    "    for i in range(number):\n",
    "        origin_lst = []\n",
    "        origin = example[0][i]\n",
    "        ifchar = False\n",
    "        for char in origin:\n",
    "            if char in punctuation and ifchar:\n",
    "                ifchar = False\n",
    "            elif char not in punctuation and not ifchar:\n",
    "                origin_lst.append(char)\n",
    "                ifchar = True\n",
    "            elif char not in punctuation and ifchar:\n",
    "                origin_lst[-1] += char\n",
    "        print(goal_lst, origin_lst)\n",
    "        assert(len(origin_lst)+1 == len(goal_lst))\n",
    "        fused = \"\"\n",
    "        for j in range(len(goal_lst)-1):\n",
    "            fused += goal_lst[j]\n",
    "            fused += origin_lst[j]\n",
    "            \n",
    "        fused += goal_lst[-1]\n",
    "        print(valid[i], fused)\n",
    "        if fused != valid[i]:\n",
    "            okay = False\n",
    "            break \n",
    "    if okay:\n",
    "        return cands[cand], cand\n",
    "        \n",
    "    return None,-1"
   ]
  },
  {
   "cell_type": "code",
   "execution_count": 37,
   "id": "7705b0e3-dd5b-4653-b996-3c94575b44d3",
   "metadata": {},
   "outputs": [
    {
     "name": "stdout",
     "output_type": "stream",
     "text": [
      "['(', ')-', '-', ''] ['568', '862', '697']\n",
      "(568)-862-697 (568)-862-697\n",
      "['(', ')-', '-', ''] ['123', '567', '890']\n",
      "(123)-567-890 (123)-567-890\n",
      "['(', ')-', '-', ''] ['421', '134', '143']\n",
      "(421)-134-143 (421)-134-143\n"
     ]
    }
   ],
   "source": [
    "method, cand = string_format(example, fill_col=1, cand=0)"
   ]
  },
  {
   "cell_type": "code",
   "execution_count": 38,
   "id": "5d459762-e0b5-42c2-a1a8-38628216e94a",
   "metadata": {},
   "outputs": [
    {
     "data": {
      "text/plain": [
       "'refactoring'"
      ]
     },
     "execution_count": 38,
     "metadata": {},
     "output_type": "execute_result"
    }
   ],
   "source": [
    "method"
   ]
  },
  {
   "cell_type": "code",
   "execution_count": 26,
   "id": "cede31a9-4f35-4dca-9f29-935760516a5c",
   "metadata": {},
   "outputs": [
    {
     "data": {
      "text/plain": [
       "-1"
      ]
     },
     "execution_count": 26,
     "metadata": {},
     "output_type": "execute_result"
    }
   ],
   "source": [
    "cand"
   ]
  },
  {
   "cell_type": "code",
   "execution_count": 27,
   "id": "9a107c28-7915-41ae-acf0-4fdb94b142b4",
   "metadata": {},
   "outputs": [
    {
     "data": {
      "text/plain": [
       "'5'"
      ]
     },
     "execution_count": 27,
     "metadata": {},
     "output_type": "execute_result"
    }
   ],
   "source": [
    "\"5\".upper()"
   ]
  },
  {
   "cell_type": "code",
   "execution_count": null,
   "id": "e39b805f-5fec-470d-bbc8-c4f5ab1f14f1",
   "metadata": {},
   "outputs": [],
   "source": []
  }
 ],
 "metadata": {
  "kernelspec": {
   "display_name": "Python 3 (ipykernel)",
   "language": "python",
   "name": "python3"
  },
  "language_info": {
   "codemirror_mode": {
    "name": "ipython",
    "version": 3
   },
   "file_extension": ".py",
   "mimetype": "text/x-python",
   "name": "python",
   "nbconvert_exporter": "python",
   "pygments_lexer": "ipython3",
   "version": "3.9.12"
  }
 },
 "nbformat": 4,
 "nbformat_minor": 5
}
