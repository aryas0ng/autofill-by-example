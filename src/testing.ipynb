{
 "cells": [
  {
   "cell_type": "code",
   "execution_count": 1,
   "id": "ddf8a4a9-cf46-4b4a-a35d-a28be6c56b70",
   "metadata": {},
   "outputs": [],
   "source": [
    "import pandas as pd\n",
    "import math"
   ]
  },
  {
   "cell_type": "code",
   "execution_count": 2,
   "id": "a41c6bf8-971c-4fab-8aba-de15d5c1e03e",
   "metadata": {},
   "outputs": [],
   "source": [
    "def load_csv(file_path):\n",
    "    df = pd.read_csv(file_path, header=None)\n",
    "    return df"
   ]
  },
  {
   "cell_type": "code",
   "execution_count": 59,
   "id": "b21a8b38-4927-4724-8b0a-e35fb7d18ea4",
   "metadata": {},
   "outputs": [],
   "source": [
    "def ez_rel(example, fill_col=2, cand=0):\n",
    "    valid = example[fill_col].dropna()\n",
    "    number = len(valid)\n",
    "    cands = ['+', '-1', '-2','*','/1','/2','max','min','avg']\n",
    "    for i in range(len(cands)):\n",
    "        cand = i\n",
    "        pos = True\n",
    "        for j in range(number):\n",
    "            if cands[cand]==\"+\" and (not math.isclose(example[0][j]+example[1][j], example[2][j], abs_tol=0.001)):\n",
    "                pos = False\n",
    "            elif cands[cand]==\"-1\" and (not math.isclose(example[0][j]-example[1][j], example[2][j], abs_tol=0.001)):\n",
    "                pos = False\n",
    "            elif cands[cand]==\"-2\" and (not math.isclose(example[1][j]-example[0][j], example[2][j], abs_tol=0.001)):\n",
    "                pos = False\n",
    "            elif cands[cand]==\"*\" and (not math.isclose(example[0][j]*example[1][j], example[2][j], abs_tol=0.001)):\n",
    "                pos = False\n",
    "            elif cands[cand]==\"/1\":\n",
    "                try:\n",
    "                    temp = example[0][j]/example[1][j]\n",
    "                except ZeroDivisionError:\n",
    "                    temp = 0\n",
    "                if not math.isclose(temp, example[2][j]):\n",
    "                    pos = False \n",
    "            elif cands[cand]==\"/2\":\n",
    "                try:\n",
    "                    temp = example[1][j]/example[0][j]\n",
    "                except ZeroDivisionError:\n",
    "                    temp = 0\n",
    "                if not math.isclose(temp, example[2][j]):\n",
    "                    pos = False \n",
    "            elif cands[cand]==\"max\" and (not math.isclose(max(example[0][j], example[1][j]), example[2][j], abs_tol=0.001)):\n",
    "                pos = False \n",
    "            elif cands[cand]==\"min\" and (not math.isclose(min(example[0][j], example[1][j]), example[2][j], abs_tol=0.001)):\n",
    "                pos = False\n",
    "            elif cands[cand]==\"avg\" and (not math.isclose((example[0][j]+example[1][j])/2, example[2][j], abs_tol=0.001)):\n",
    "                pos = False        \n",
    "            if not pos:\n",
    "                break\n",
    "        if pos:\n",
    "            return cands[cand], cand\n",
    "    return None, cand"
   ]
  },
  {
   "cell_type": "code",
   "execution_count": 5,
   "id": "bbb77bf5",
   "metadata": {},
   "outputs": [
    {
     "name": "stderr",
     "output_type": "stream",
     "text": [
      "/Users/arya/cs6386/6386-spreadsheet/src/ez_numeric_2cols.py:25: RuntimeWarning: divide by zero encountered in scalar divide\n",
      "  temp = example[0][j]/example[1][j]\n"
     ]
    },
    {
     "data": {
      "text/plain": [
       "(None, 8)"
      ]
     },
     "execution_count": 5,
     "metadata": {},
     "output_type": "execute_result"
    }
   ],
   "source": [
    "from ez_numeric_2cols import ez_rel\n",
    "\n",
    "example = load_csv(\"../tests/col1_divide_col2.csv\")\n",
    "ez_rel(example)"
   ]
  },
  {
   "cell_type": "code",
   "execution_count": 6,
   "id": "b8e7e550",
   "metadata": {},
   "outputs": [],
   "source": [
    "from multiple_rows import multiple_row_sum_avg, fill_multiple_row_sum_avg\n",
    "\n",
    "example1 = load_csv(\"../tests/avg_of_three_rows.csv\")\n",
    "op, result = multiple_row_sum_avg(example1)\n",
    "# print(op, result)\n",
    "\n",
    "filled = fill_multiple_row_sum_avg(example1, op, result)\n",
    "# print(filled)\n",
    "\n",
    "expected = load_csv(\"../tests/avg_of_three_rows_expected.csv\")\n",
    "# print(expected.compare(filled))\n",
    "pd.testing.assert_frame_equal(expected, filled, check_dtype = False, atol = 0.01)"
   ]
  },
  {
   "cell_type": "code",
   "execution_count": 3,
   "id": "0a993f58",
   "metadata": {},
   "outputs": [],
   "source": [
    "from multiple_rows import filter_sum_avg, fill_filter_sum_avg\n",
    "\n",
    "example2 = load_csv(\"../tests/filter_on_col1_avg.csv\")\n",
    "col, op = filter_sum_avg(example2)\n",
    "# print(col, op)\n",
    "\n",
    "filled2 = fill_filter_sum_avg(example2, col, op)\n",
    "# print(filled2)\n",
    "\n",
    "expected2 = load_csv(\"../tests/filter_on_col1_avg_expected.csv\")\n",
    "# print(expected2.compare(filled2))\n",
    "pd.testing.assert_frame_equal(expected2, filled2, check_dtype = False, atol = 0.01)\n"
   ]
  },
  {
   "cell_type": "code",
   "execution_count": 4,
   "id": "fc75643b",
   "metadata": {},
   "outputs": [],
   "source": [
    "from multiple_rows import filter_count, fill_filter_count\n",
    "\n",
    "example3 = load_csv(\"../tests/filter_on_col_count.csv\")\n",
    "trial = filter_count(example3)\n",
    "# print(trial)\n",
    "\n",
    "filled = fill_filter_count(example3, trial)\n",
    "# print(filled)\n",
    "\n",
    "expected = load_csv(\"../tests/filter_on_col_count_expected.csv\")\n",
    "# print(expected.compare(filled))\n",
    "pd.testing.assert_frame_equal(expected, filled, check_dtype = False, atol = 0.01)"
   ]
  },
  {
   "cell_type": "code",
   "execution_count": 3,
   "id": "6fe033dc",
   "metadata": {},
   "outputs": [],
   "source": [
    "from weighted_col import weighted_sum, fill_weighted_sum\n",
    "\n",
    "example4 = load_csv(\"../tests/weighted_sum_of_two_cols_2.csv\")\n",
    "trial, w1, w2 = weighted_sum(example4)\n",
    "# print(trial, w1, w2)\n",
    "\n",
    "filled = fill_weighted_sum(example4, trial, w1, w2)\n",
    "# print(filled)\n",
    "\n",
    "expected = load_csv(\"../tests/weighted_sum_of_two_cols_2_expected.csv\")\n",
    "# print(expected.compare(filled))\n",
    "pd.testing.assert_frame_equal(expected, filled, check_dtype = False, atol = 0.01)"
   ]
  },
  {
   "cell_type": "code",
   "execution_count": 5,
   "id": "62fc860e",
   "metadata": {},
   "outputs": [
    {
     "data": {
      "text/plain": [
       "(True,\n",
       " True,\n",
       "        0     1    2\n",
       " 0    1.0   0.0  1.0\n",
       " 1    2.0   4.0  6.0\n",
       " 2    2.0   3.0  5.0\n",
       " 3    3.0   8.0  NaN\n",
       " 4   10.0  10.0  NaN\n",
       " 5    5.0   5.0  NaN\n",
       " 6    4.0   4.0  NaN\n",
       " 7   19.0   4.0  NaN\n",
       " 8    2.0  21.0  NaN\n",
       " 9    1.0  21.0  NaN\n",
       " 10   0.0  10.0  NaN\n",
       " 11   7.0   7.0  NaN\n",
       " 12   4.0   4.0  NaN\n",
       " 13   3.0   3.0  NaN\n",
       " 14  12.0   0.0  NaN\n",
       " 15   4.0  16.0  NaN\n",
       " 16   1.0  16.0  NaN\n",
       " 17  26.0  27.0  NaN\n",
       " 18   8.0   8.0  NaN\n",
       " 19   3.0   3.0  NaN\n",
       " 20   3.0   3.0  NaN\n",
       " 21   8.0  11.0  NaN\n",
       " 22   4.0   4.0  NaN)"
      ]
     },
     "execution_count": 5,
     "metadata": {},
     "output_type": "execute_result"
    }
   ],
   "source": [
    "from empty_entries import remove_empty_entries\n",
    "\n",
    "example5 = load_csv(\"../tests/sum_of_two_col_missing_entry.csv\")\n",
    "remove_empty_entries(example5)"
   ]
  },
  {
   "cell_type": "code",
   "execution_count": 3,
   "id": "b2c48a0a",
   "metadata": {},
   "outputs": [
    {
     "data": {
      "text/html": [
       "<div>\n",
       "<style scoped>\n",
       "    .dataframe tbody tr th:only-of-type {\n",
       "        vertical-align: middle;\n",
       "    }\n",
       "\n",
       "    .dataframe tbody tr th {\n",
       "        vertical-align: top;\n",
       "    }\n",
       "\n",
       "    .dataframe thead th {\n",
       "        text-align: right;\n",
       "    }\n",
       "</style>\n",
       "<table border=\"1\" class=\"dataframe\">\n",
       "  <thead>\n",
       "    <tr style=\"text-align: right;\">\n",
       "      <th></th>\n",
       "      <th>0</th>\n",
       "      <th>1</th>\n",
       "      <th>2</th>\n",
       "    </tr>\n",
       "  </thead>\n",
       "  <tbody>\n",
       "    <tr>\n",
       "      <th>0</th>\n",
       "      <td>1</td>\n",
       "      <td>0</td>\n",
       "      <td>1.0</td>\n",
       "    </tr>\n",
       "    <tr>\n",
       "      <th>1</th>\n",
       "      <td>2</td>\n",
       "      <td>4</td>\n",
       "      <td>6.0</td>\n",
       "    </tr>\n",
       "    <tr>\n",
       "      <th>2</th>\n",
       "      <td>2</td>\n",
       "      <td>3</td>\n",
       "      <td>5.0</td>\n",
       "    </tr>\n",
       "    <tr>\n",
       "      <th>3</th>\n",
       "      <td>3</td>\n",
       "      <td>8</td>\n",
       "      <td>11.0</td>\n",
       "    </tr>\n",
       "    <tr>\n",
       "      <th>4</th>\n",
       "      <td>10</td>\n",
       "      <td>10</td>\n",
       "      <td>20.0</td>\n",
       "    </tr>\n",
       "    <tr>\n",
       "      <th>5</th>\n",
       "      <td>5</td>\n",
       "      <td>5</td>\n",
       "      <td>NaN</td>\n",
       "    </tr>\n",
       "    <tr>\n",
       "      <th>6</th>\n",
       "      <td>4</td>\n",
       "      <td>4</td>\n",
       "      <td>NaN</td>\n",
       "    </tr>\n",
       "    <tr>\n",
       "      <th>7</th>\n",
       "      <td>19</td>\n",
       "      <td>4</td>\n",
       "      <td>NaN</td>\n",
       "    </tr>\n",
       "    <tr>\n",
       "      <th>8</th>\n",
       "      <td>2</td>\n",
       "      <td>21</td>\n",
       "      <td>NaN</td>\n",
       "    </tr>\n",
       "    <tr>\n",
       "      <th>9</th>\n",
       "      <td>1</td>\n",
       "      <td>21</td>\n",
       "      <td>NaN</td>\n",
       "    </tr>\n",
       "    <tr>\n",
       "      <th>10</th>\n",
       "      <td>9</td>\n",
       "      <td>10</td>\n",
       "      <td>NaN</td>\n",
       "    </tr>\n",
       "    <tr>\n",
       "      <th>11</th>\n",
       "      <td>7</td>\n",
       "      <td>7</td>\n",
       "      <td>NaN</td>\n",
       "    </tr>\n",
       "    <tr>\n",
       "      <th>12</th>\n",
       "      <td>4</td>\n",
       "      <td>4</td>\n",
       "      <td>NaN</td>\n",
       "    </tr>\n",
       "    <tr>\n",
       "      <th>13</th>\n",
       "      <td>3</td>\n",
       "      <td>3</td>\n",
       "      <td>NaN</td>\n",
       "    </tr>\n",
       "    <tr>\n",
       "      <th>14</th>\n",
       "      <td>12</td>\n",
       "      <td>3</td>\n",
       "      <td>NaN</td>\n",
       "    </tr>\n",
       "    <tr>\n",
       "      <th>15</th>\n",
       "      <td>4</td>\n",
       "      <td>16</td>\n",
       "      <td>NaN</td>\n",
       "    </tr>\n",
       "    <tr>\n",
       "      <th>16</th>\n",
       "      <td>1</td>\n",
       "      <td>16</td>\n",
       "      <td>NaN</td>\n",
       "    </tr>\n",
       "    <tr>\n",
       "      <th>17</th>\n",
       "      <td>26</td>\n",
       "      <td>27</td>\n",
       "      <td>NaN</td>\n",
       "    </tr>\n",
       "    <tr>\n",
       "      <th>18</th>\n",
       "      <td>8</td>\n",
       "      <td>8</td>\n",
       "      <td>NaN</td>\n",
       "    </tr>\n",
       "    <tr>\n",
       "      <th>19</th>\n",
       "      <td>3</td>\n",
       "      <td>3</td>\n",
       "      <td>NaN</td>\n",
       "    </tr>\n",
       "    <tr>\n",
       "      <th>20</th>\n",
       "      <td>3</td>\n",
       "      <td>3</td>\n",
       "      <td>NaN</td>\n",
       "    </tr>\n",
       "    <tr>\n",
       "      <th>21</th>\n",
       "      <td>8</td>\n",
       "      <td>11</td>\n",
       "      <td>NaN</td>\n",
       "    </tr>\n",
       "    <tr>\n",
       "      <th>22</th>\n",
       "      <td>4</td>\n",
       "      <td>4</td>\n",
       "      <td>NaN</td>\n",
       "    </tr>\n",
       "  </tbody>\n",
       "</table>\n",
       "</div>"
      ],
      "text/plain": [
       "     0   1     2\n",
       "0    1   0   1.0\n",
       "1    2   4   6.0\n",
       "2    2   3   5.0\n",
       "3    3   8  11.0\n",
       "4   10  10  20.0\n",
       "5    5   5   NaN\n",
       "6    4   4   NaN\n",
       "7   19   4   NaN\n",
       "8    2  21   NaN\n",
       "9    1  21   NaN\n",
       "10   9  10   NaN\n",
       "11   7   7   NaN\n",
       "12   4   4   NaN\n",
       "13   3   3   NaN\n",
       "14  12   3   NaN\n",
       "15   4  16   NaN\n",
       "16   1  16   NaN\n",
       "17  26  27   NaN\n",
       "18   8   8   NaN\n",
       "19   3   3   NaN\n",
       "20   3   3   NaN\n",
       "21   8  11   NaN\n",
       "22   4   4   NaN"
      ]
     },
     "execution_count": 3,
     "metadata": {},
     "output_type": "execute_result"
    }
   ],
   "source": [
    "from tailing import tailing\n",
    "\n",
    "example6 = load_csv(\"../tests/sum_with_extra_col_row.csv\")\n",
    "tailing(example6)"
   ]
  },
  {
   "cell_type": "code",
   "execution_count": 34,
   "id": "288e054a",
   "metadata": {},
   "outputs": [
    {
     "ename": "AttributeError",
     "evalue": "'str' object has no attribute 'shape'",
     "output_type": "error",
     "traceback": [
      "\u001b[0;31m---------------------------------------------------------------------------\u001b[0m",
      "\u001b[0;31mAttributeError\u001b[0m                            Traceback (most recent call last)",
      "\u001b[1;32m/Users/arya/cs6386/6386-FinalProject/src/testing.ipynb Cell 11\u001b[0m line \u001b[0;36m3\n\u001b[1;32m      <a href='vscode-notebook-cell:/Users/arya/cs6386/6386-FinalProject/src/testing.ipynb#X14sZmlsZQ%3D%3D?line=0'>1</a>\u001b[0m \u001b[39mfrom\u001b[39;00m \u001b[39mmain\u001b[39;00m \u001b[39mimport\u001b[39;00m \u001b[39m*\u001b[39m\n\u001b[0;32m----> <a href='vscode-notebook-cell:/Users/arya/cs6386/6386-FinalProject/src/testing.ipynb#X14sZmlsZQ%3D%3D?line=2'>3</a>\u001b[0m filled \u001b[39m=\u001b[39m autofill(\u001b[39m\"\u001b[39;49m\u001b[39m../tests/avg_of_three_rows.csv\u001b[39;49m\u001b[39m\"\u001b[39;49m)\n\u001b[1;32m      <a href='vscode-notebook-cell:/Users/arya/cs6386/6386-FinalProject/src/testing.ipynb#X14sZmlsZQ%3D%3D?line=3'>4</a>\u001b[0m \u001b[39m# print(filled)\u001b[39;00m\n\u001b[1;32m      <a href='vscode-notebook-cell:/Users/arya/cs6386/6386-FinalProject/src/testing.ipynb#X14sZmlsZQ%3D%3D?line=4'>5</a>\u001b[0m check(filled, \u001b[39m\"\u001b[39m\u001b[39m../tests/avg_of_three_rows_expected.csv\u001b[39m\u001b[39m\"\u001b[39m)\n",
      "File \u001b[0;32m~/cs6386/6386-FinalProject/src/main.py:18\u001b[0m, in \u001b[0;36mautofill\u001b[0;34m(table)\u001b[0m\n\u001b[1;32m     15\u001b[0m \u001b[39mdef\u001b[39;00m \u001b[39mautofill\u001b[39m(table):\n\u001b[1;32m     16\u001b[0m \n\u001b[1;32m     17\u001b[0m     \u001b[39m# remove ending empty cols\u001b[39;00m\n\u001b[0;32m---> 18\u001b[0m     table \u001b[39m=\u001b[39m tailing(table)\n\u001b[1;32m     20\u001b[0m     \u001b[39m# remove empty entries, especially for numeric table\u001b[39;00m\n\u001b[1;32m     21\u001b[0m     empty, zeroes, table \u001b[39m=\u001b[39m remove_empty_entries(table)\n",
      "File \u001b[0;32m~/cs6386/6386-FinalProject/src/tailing.py:5\u001b[0m, in \u001b[0;36mtailing\u001b[0;34m(table)\u001b[0m\n\u001b[1;32m      4\u001b[0m \u001b[39mdef\u001b[39;00m \u001b[39mtailing\u001b[39m(table):\n\u001b[0;32m----> 5\u001b[0m     col_num \u001b[39m=\u001b[39m table\u001b[39m.\u001b[39;49mshape[\u001b[39m1\u001b[39m]\n\u001b[1;32m      6\u001b[0m     row_num \u001b[39m=\u001b[39m table\u001b[39m.\u001b[39mshape[\u001b[39m0\u001b[39m]\n\u001b[1;32m      7\u001b[0m     col \u001b[39m=\u001b[39m \u001b[39mTrue\u001b[39;00m\n",
      "\u001b[0;31mAttributeError\u001b[0m: 'str' object has no attribute 'shape'"
     ]
    }
   ],
   "source": [
    "from main import *\n",
    "\n",
    "filled = autofill(\"../tests/avg_of_three_rows.csv\")\n",
    "# print(filled)\n",
    "check(filled, \"../tests/avg_of_three_rows_expected.csv\")"
   ]
  },
  {
   "cell_type": "code",
   "execution_count": 3,
   "metadata": {},
   "outputs": [],
   "source": [
    "# from sympy import symbols, Eq, solve\n",
    "\n",
    "\n",
    "# def solver(rows):\n",
    "#     col_num = len(rows[0])\n",
    "#     col_num -= 1\n",
    "#     if col_num > len(rows):\n",
    "#         return None\n",
    "    \n",
    "#     # Create variables\n",
    "#     var = {}\n",
    "#     acsii = 97\n",
    "#     for i in range(col_num):\n",
    "#         sym = chr(acsii+i)\n",
    "#         symStr = str(sym)\n",
    "#         var[symStr] = symbols(sym) \n",
    "    \n",
    "#     # Create equations\n",
    "#     equations = []\n",
    "#     for i in range(col_num):\n",
    "#         lhs = sum([coeff * var[v] for coeff, v in zip(rows[i][:-1], var)])\n",
    "#         result = rows[i][-1]\n",
    "#         eq = Eq(lhs, result) \n",
    "#         equations.append(eq)\n",
    "\n",
    "#     sol = solve(equations)\n",
    "\n",
    "#     co = {str(v): sol[var[v]] for v in var}\n",
    "#     coef = [co[v] for v in var]\n",
    "    \n",
    "#     # Verify coefficients in the remaining rows, if exists\n",
    "#     for i in range(len(rows) - col_num):\n",
    "#         # print(\"here\")\n",
    "#         result = rows[col_num+i][-1]\n",
    "#         nums = rows[col_num+i][:-1]\n",
    "#         temp = 0\n",
    "#         for j in range(len(coef)):\n",
    "#             temp += coef[j] * nums[j]\n",
    "#         if temp != result:\n",
    "#             return None\n",
    "\n",
    "#     return coef"
   ]
  },
  {
   "cell_type": "code",
   "execution_count": 4,
   "metadata": {},
   "outputs": [],
   "source": [
    "# def weighted_sum(table):\n",
    "#     col_num = table.shape[1]\n",
    "#     examples = table[col_num-1].dropna()\n",
    "#     num = len(examples)\n",
    "#     sample = table[:][:num].values.tolist()\n",
    "    \n",
    "#     return solver(sample)\n"
   ]
  },
  {
   "cell_type": "code",
   "execution_count": 5,
   "metadata": {},
   "outputs": [],
   "source": [
    "example4 = load_csv(\"../tests/weighted_sum_of_two_cols.csv\")"
   ]
  },
  {
   "cell_type": "code",
   "execution_count": 12,
   "metadata": {},
   "outputs": [],
   "source": [
    "\n",
    "weighted= weighted_sum(example4)\n",
    "# print(weighted)"
   ]
  },
  {
   "cell_type": "code",
   "execution_count": 20,
   "metadata": {},
   "outputs": [],
   "source": [
    "# def fill_weighted_sum(table, weight):\n",
    "#     if weight == None:\n",
    "#         raise Exception(\"not weighted_sum formula\")\n",
    "    \n",
    "#     col_num = table.shape[1]\n",
    "#     row_num = table.shape[0]\n",
    "#     examples = table[col_num-1].dropna()\n",
    "\n",
    "#     new = table.copy()\n",
    "\n",
    "#     for i in range(row_num):\n",
    "#         result = 0\n",
    "#         for j in range(len(weight)):\n",
    "#             result += weight[j] * table[j][i]\n",
    "#         new.iloc[i,-1] = result\n",
    "\n",
    "#     return new"
   ]
  },
  {
   "cell_type": "code",
   "execution_count": 4,
   "metadata": {},
   "outputs": [
    {
     "name": "stderr",
     "output_type": "stream",
     "text": [
      "/Users/arya/cs6386/6386-FinalProject/src/ez_numeric_2cols.py:24: RuntimeWarning: divide by zero encountered in scalar divide\n",
      "  temp = example[0][j]/example[1][j]\n"
     ]
    }
   ],
   "source": [
    "from main import *\n",
    "from weighted_col import *\n",
    "\n",
    "file = \"../tests/weighted_negative_sum_of_three_cols.csv\"\n",
    "example4 = load_csv(file)\n",
    "# weighted= weighted_sum(example4)\n",
    "# result = fill_weighted_sum(example4, weighted)\n",
    "result = autofill(example4)\n",
    "from main import *\n",
    "file = file[:-4] + \"_expected.csv\"\n",
    "check(result, file)"
   ]
  },
  {
   "cell_type": "code",
   "execution_count": 14,
   "metadata": {},
   "outputs": [
    {
     "data": {
      "image/png": "[encoded data removed]",
      "text/plain": [
       "<Figure size 640x480 with 1 Axes>"
      ]
     },
     "metadata": {},
     "output_type": "display_data"
    }
   ],
   "source": [
    "import matplotlib.pyplot as plt\n",
    "\n",
    "\n",
    "data = [4, 8, 39, 42, 96, 124, 219, 228, 394]\n",
    "\n",
    "plt.plot(data)\n",
    "\n",
    "plt.xlabel('Number of Columns')\n",
    "plt.ylabel('Execution Time (ms)')\n",
    "plt.title('Execution Time Plot')\n",
    "\n",
    "plt.show()"
   ]
  },
  {
   "cell_type": "code",
   "execution_count": null,
   "metadata": {},
   "outputs": [],
   "source": []
  }
 ],
 "metadata": {
  "kernelspec": {
   "display_name": "Python 3 (ipykernel)",
   "language": "python",
   "name": "python3"
  },
  "language_info": {
   "codemirror_mode": {
    "name": "ipython",
    "version": 3
   },
   "file_extension": ".py",
   "mimetype": "text/x-python",
   "name": "python",
   "nbconvert_exporter": "python",
   "pygments_lexer": "ipython3",
   "version": "3.9.18"
  }
 },
 "nbformat": 4,
 "nbformat_minor": 5
}
