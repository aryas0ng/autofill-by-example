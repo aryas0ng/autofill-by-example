{
 "cells": [
  {
   "cell_type": "code",
   "execution_count": 1,
   "id": "ddf8a4a9-cf46-4b4a-a35d-a28be6c56b70",
   "metadata": {},
   "outputs": [],
   "source": [
    "import pandas as pd\n",
    "import math"
   ]
  },
  {
   "cell_type": "code",
   "execution_count": 2,
   "id": "a41c6bf8-971c-4fab-8aba-de15d5c1e03e",
   "metadata": {},
   "outputs": [],
   "source": [
    "def load_csv(file_path):\n",
    "    df = pd.read_csv(file_path, header=None)\n",
    "    return df"
   ]
  },
  {
   "cell_type": "code",
   "execution_count": 59,
   "id": "b21a8b38-4927-4724-8b0a-e35fb7d18ea4",
   "metadata": {},
   "outputs": [],
   "source": [
    "def ez_rel(example, fill_col=2, cand=0):\n",
    "    valid = example[fill_col].dropna()\n",
    "    number = len(valid)\n",
    "    cands = ['+', '-1', '-2','*','/1','/2','max','min','avg']\n",
    "    for i in range(len(cands)):\n",
    "        cand = i\n",
    "        pos = True\n",
    "        for j in range(number):\n",
    "            if cands[cand]==\"+\" and (not math.isclose(example[0][j]+example[1][j], example[2][j], abs_tol=0.001)):\n",
    "                pos = False\n",
    "            elif cands[cand]==\"-1\" and (not math.isclose(example[0][j]-example[1][j], example[2][j], abs_tol=0.001)):\n",
    "                pos = False\n",
    "            elif cands[cand]==\"-2\" and (not math.isclose(example[1][j]-example[0][j], example[2][j], abs_tol=0.001)):\n",
    "                pos = False\n",
    "            elif cands[cand]==\"*\" and (not math.isclose(example[0][j]*example[1][j], example[2][j], abs_tol=0.001)):\n",
    "                pos = False\n",
    "            elif cands[cand]==\"/1\":\n",
    "                try:\n",
    "                    temp = example[0][j]/example[1][j]\n",
    "                except ZeroDivisionError:\n",
    "                    temp = 0\n",
    "                if not math.isclose(temp, example[2][j]):\n",
    "                    pos = False \n",
    "            elif cands[cand]==\"/2\":\n",
    "                try:\n",
    "                    temp = example[1][j]/example[0][j]\n",
    "                except ZeroDivisionError:\n",
    "                    temp = 0\n",
    "                if not math.isclose(temp, example[2][j]):\n",
    "                    pos = False \n",
    "            elif cands[cand]==\"max\" and (not math.isclose(max(example[0][j], example[1][j]), example[2][j], abs_tol=0.001)):\n",
    "                pos = False \n",
    "            elif cands[cand]==\"min\" and (not math.isclose(min(example[0][j], example[1][j]), example[2][j], abs_tol=0.001)):\n",
    "                pos = False\n",
    "            elif cands[cand]==\"avg\" and (not math.isclose((example[0][j]+example[1][j])/2, example[2][j], abs_tol=0.001)):\n",
    "                pos = False        \n",
    "            if not pos:\n",
    "                break\n",
    "        if pos:\n",
    "            return cands[cand], cand\n",
    "    return None, cand"
   ]
  },
  {
   "cell_type": "code",
   "execution_count": 5,
   "id": "bbb77bf5",
   "metadata": {},
   "outputs": [
    {
     "name": "stderr",
     "output_type": "stream",
     "text": [
      "/Users/arya/cs6386/6386-spreadsheet/src/ez_numeric_2cols.py:25: RuntimeWarning: divide by zero encountered in scalar divide\n",
      "  temp = example[0][j]/example[1][j]\n"
     ]
    },
    {
     "data": {
      "text/plain": [
       "(None, 8)"
      ]
     },
     "execution_count": 5,
     "metadata": {},
     "output_type": "execute_result"
    }
   ],
   "source": [
    "from ez_numeric_2cols import ez_rel\n",
    "\n",
    "example = load_csv(\"../tests/col1_divide_col2.csv\")\n",
    "ez_rel(example)"
   ]
  },
  {
   "cell_type": "code",
   "execution_count": 6,
   "id": "b8e7e550",
   "metadata": {},
   "outputs": [],
   "source": [
    "from multiple_rows import multiple_row_sum_avg, fill_multiple_row_sum_avg\n",
    "\n",
    "example1 = load_csv(\"../tests/avg_of_three_rows.csv\")\n",
    "op, result = multiple_row_sum_avg(example1)\n",
    "# print(op, result)\n",
    "\n",
    "filled = fill_multiple_row_sum_avg(example1, op, result)\n",
    "# print(filled)\n",
    "\n",
    "expected = load_csv(\"../tests/avg_of_three_rows_expected.csv\")\n",
    "# print(expected.compare(filled))\n",
    "pd.testing.assert_frame_equal(expected, filled, check_dtype = False, atol = 0.01)"
   ]
  },
  {
   "cell_type": "code",
   "execution_count": 3,
   "id": "0a993f58",
   "metadata": {},
   "outputs": [],
   "source": [
    "from multiple_rows import filter_sum_avg, fill_filter_sum_avg\n",
    "\n",
    "example2 = load_csv(\"../tests/filter_on_col1_avg.csv\")\n",
    "col, op = filter_sum_avg(example2)\n",
    "# print(col, op)\n",
    "\n",
    "filled2 = fill_filter_sum_avg(example2, col, op)\n",
    "# print(filled2)\n",
    "\n",
    "expected2 = load_csv(\"../tests/filter_on_col1_avg_expected.csv\")\n",
    "# print(expected2.compare(filled2))\n",
    "pd.testing.assert_frame_equal(expected2, filled2, check_dtype = False, atol = 0.01)\n"
   ]
  },
  {
   "cell_type": "code",
   "execution_count": 4,
   "id": "fc75643b",
   "metadata": {},
   "outputs": [],
   "source": [
    "from multiple_rows import filter_count, fill_filter_count\n",
    "\n",
    "example3 = load_csv(\"../tests/filter_on_col_count.csv\")\n",
    "trial = filter_count(example3)\n",
    "# print(trial)\n",
    "\n",
    "filled = fill_filter_count(example3, trial)\n",
    "# print(filled)\n",
    "\n",
    "expected = load_csv(\"../tests/filter_on_col_count_expected.csv\")\n",
    "# print(expected.compare(filled))\n",
    "pd.testing.assert_frame_equal(expected, filled, check_dtype = False, atol = 0.01)"
   ]
  },
  {
   "cell_type": "code",
   "execution_count": 3,
   "id": "6fe033dc",
   "metadata": {},
   "outputs": [],
   "source": [
    "from weighted_col import weighted_sum, fill_weighted_sum\n",
    "\n",
    "example4 = load_csv(\"../tests/weighted_sum_of_two_cols_2.csv\")\n",
    "trial, w1, w2 = weighted_sum(example4)\n",
    "# print(trial, w1, w2)\n",
    "\n",
    "filled = fill_weighted_sum(example4, trial, w1, w2)\n",
    "# print(filled)\n",
    "\n",
    "expected = load_csv(\"../tests/weighted_sum_of_two_cols_2_expected.csv\")\n",
    "# print(expected.compare(filled))\n",
    "pd.testing.assert_frame_equal(expected, filled, check_dtype = False, atol = 0.01)"
   ]
  },
  {
   "cell_type": "code",
   "execution_count": null,
   "id": "62fc860e",
   "metadata": {},
   "outputs": [],
   "source": [
    "from empty_entries import remove_empty_entries\n",
    "\n",
    "example5 = load_csv(\"../tests/sum_of_two_col_missing_entry.csv\")\n",
    "remove_empty_entries(example5)"
   ]
  },
  {
   "cell_type": "code",
   "execution_count": null,
   "id": "b2c48a0a",
   "metadata": {},
   "outputs": [],
   "source": [
    "from tailing import tailing\n",
    "\n",
    "example6 = load_csv(\"../tests/sum_with_extra_col_row.csv\")\n",
    "tailing(example6)"
   ]
  },
  {
   "cell_type": "code",
   "execution_count": null,
   "id": "288e054a",
   "metadata": {},
   "outputs": [],
   "source": [
    "from main import *\n",
    "\n",
    "filled = autofill(\"../tests/avg_of_three_rows.csv\")\n",
    "# print(filled)\n",
    "check(filled, \"../tests/avg_of_three_rows_expected.csv\")"
   ]
  },
  {
   "cell_type": "code",
   "execution_count": 4,
   "metadata": {},
   "outputs": [
    {
     "name": "stderr",
     "output_type": "stream",
     "text": [
      "/Users/arya/cs6386/6386-FinalProject/src/ez_numeric_2cols.py:24: RuntimeWarning: divide by zero encountered in scalar divide\n",
      "  temp = example[0][j]/example[1][j]\n"
     ]
    }
   ],
   "source": [
    "from main import *\n",
    "from weighted_col import *\n",
    "\n",
    "file = \"../tests/weighted_negative_sum_of_three_cols.csv\"\n",
    "example4 = load_csv(file)\n",
    "# weighted= weighted_sum(example4)\n",
    "# result = fill_weighted_sum(example4, weighted)\n",
    "result = autofill(example4)\n",
    "\n",
    "file = file[:-4] + \"_expected.csv\"\n",
    "check(result, file)"
   ]
  },
  {
   "cell_type": "code",
   "execution_count": 25,
   "metadata": {},
   "outputs": [
    {
     "name": "stderr",
     "output_type": "stream",
     "text": [
      "/Users/arya/cs6386/6386-FinalProject/src/ez_numeric_2cols.py:24: RuntimeWarning: divide by zero encountered in scalar divide\n",
      "  temp = example[0][j]/example[1][j]\n",
      "/Users/arya/cs6386/6386-FinalProject/src/ez_numeric_2cols.py:24: RuntimeWarning: divide by zero encountered in scalar divide\n",
      "  temp = example[0][j]/example[1][j]\n",
      "/Users/arya/cs6386/6386-FinalProject/src/ez_numeric_2cols.py:24: RuntimeWarning: divide by zero encountered in scalar divide\n",
      "  temp = example[0][j]/example[1][j]\n",
      "/Users/arya/cs6386/6386-FinalProject/src/ez_numeric_2cols.py:24: RuntimeWarning: divide by zero encountered in scalar divide\n",
      "  temp = example[0][j]/example[1][j]\n"
     ]
    },
    {
     "data": {
      "image/png": "[encoded data removed]",
      "text/plain": [
       "<Figure size 640x480 with 1 Axes>"
      ]
     },
     "metadata": {},
     "output_type": "display_data"
    }
   ],
   "source": [
    "weighted_sum_plot()"
   ]
  },
  {
   "cell_type": "code",
   "execution_count": null,
   "metadata": {},
   "outputs": [],
   "source": []
  }
 ],
 "metadata": {
  "kernelspec": {
   "display_name": "Python 3 (ipykernel)",
   "language": "python",
   "name": "python3"
  },
  "language_info": {
   "codemirror_mode": {
    "name": "ipython",
    "version": 3
   },
   "file_extension": ".py",
   "mimetype": "text/x-python",
   "name": "python",
   "nbconvert_exporter": "python",
   "pygments_lexer": "ipython3",
   "version": "3.9.18"
  }
 },
 "nbformat": 4,
 "nbformat_minor": 5
}
