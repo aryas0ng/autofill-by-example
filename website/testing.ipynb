{
 "cells": [
  {
   "cell_type": "code",
   "execution_count": 4,
   "id": "ddf8a4a9-cf46-4b4a-a35d-a28be6c56b70",
   "metadata": {},
   "outputs": [],
   "source": [
    "import pandas as pd\n",
    "import math"
   ]
  },
  {
   "cell_type": "code",
   "execution_count": 5,
   "id": "a41c6bf8-971c-4fab-8aba-de15d5c1e03e",
   "metadata": {},
   "outputs": [],
   "source": [
    "def load_csv(file_path):\n",
    "    df = pd.read_csv(file_path, header=None)\n",
    "    return df"
   ]
  },
  {
   "cell_type": "code",
   "execution_count": 5,
   "id": "bbb77bf5",
   "metadata": {},
   "outputs": [
    {
     "name": "stderr",
     "output_type": "stream",
     "text": [
      "/Users/arya/cs6386/6386-spreadsheet/src/ez_numeric_2cols.py:25: RuntimeWarning: divide by zero encountered in scalar divide\n",
      "  temp = example[0][j]/example[1][j]\n"
     ]
    },
    {
     "data": {
      "text/plain": [
       "(None, 8)"
      ]
     },
     "execution_count": 5,
     "metadata": {},
     "output_type": "execute_result"
    }
   ],
   "source": [
    "from ez_numeric_2cols import ez_rel\n",
    "\n",
    "example = load_csv(\"../tests/col1_divide_col2.csv\")\n",
    "ez_rel(example)"
   ]
  },
  {
   "cell_type": "code",
   "execution_count": 6,
   "id": "b8e7e550",
   "metadata": {},
   "outputs": [],
   "source": [
    "from multiple_rows import multiple_row_sum_avg, fill_multiple_row_sum_avg\n",
    "\n",
    "example1 = load_csv(\"../tests/avg_of_three_rows.csv\")\n",
    "op, result = multiple_row_sum_avg(example1)\n",
    "# print(op, result)\n",
    "\n",
    "filled = fill_multiple_row_sum_avg(example1, op, result)\n",
    "# print(filled)\n",
    "\n",
    "expected = load_csv(\"../tests/avg_of_three_rows_expected.csv\")\n",
    "# print(expected.compare(filled))\n",
    "pd.testing.assert_frame_equal(expected, filled, check_dtype = False, atol = 0.01)"
   ]
  },
  {
   "cell_type": "code",
   "execution_count": 3,
   "id": "0a993f58",
   "metadata": {},
   "outputs": [],
   "source": [
    "from multiple_rows import filter_sum_avg, fill_filter_sum_avg\n",
    "\n",
    "example2 = load_csv(\"../tests/filter_on_col1_avg.csv\")\n",
    "col, op = filter_sum_avg(example2)\n",
    "# print(col, op)\n",
    "\n",
    "filled2 = fill_filter_sum_avg(example2, col, op)\n",
    "# print(filled2)\n",
    "\n",
    "expected2 = load_csv(\"../tests/filter_on_col1_avg_expected.csv\")\n",
    "# print(expected2.compare(filled2))\n",
    "pd.testing.assert_frame_equal(expected2, filled2, check_dtype = False, atol = 0.01)\n"
   ]
  },
  {
   "cell_type": "code",
   "execution_count": 4,
   "id": "fc75643b",
   "metadata": {},
   "outputs": [],
   "source": [
    "from multiple_rows import filter_count, fill_filter_count\n",
    "\n",
    "example3 = load_csv(\"../tests/filter_on_col_count.csv\")\n",
    "trial = filter_count(example3)\n",
    "# print(trial)\n",
    "\n",
    "filled = fill_filter_count(example3, trial)\n",
    "# print(filled)\n",
    "\n",
    "expected = load_csv(\"../tests/filter_on_col_count_expected.csv\")\n",
    "# print(expected.compare(filled))\n",
    "pd.testing.assert_frame_equal(expected, filled, check_dtype = False, atol = 0.01)"
   ]
  },
  {
   "cell_type": "code",
   "execution_count": 3,
   "id": "6fe033dc",
   "metadata": {},
   "outputs": [],
   "source": [
    "from weighted_col import weighted_sum, fill_weighted_sum\n",
    "\n",
    "example4 = load_csv(\"../tests/weighted_sum_of_two_cols_2.csv\")\n",
    "trial, w1, w2 = weighted_sum(example4)\n",
    "# print(trial, w1, w2)\n",
    "\n",
    "filled = fill_weighted_sum(example4, trial, w1, w2)\n",
    "# print(filled)\n",
    "\n",
    "expected = load_csv(\"../tests/weighted_sum_of_two_cols_2_expected.csv\")\n",
    "# print(expected.compare(filled))\n",
    "pd.testing.assert_frame_equal(expected, filled, check_dtype = False, atol = 0.01)"
   ]
  },
  {
   "cell_type": "code",
   "execution_count": null,
   "id": "62fc860e",
   "metadata": {},
   "outputs": [],
   "source": [
    "from empty_entries import remove_empty_entries\n",
    "\n",
    "example5 = load_csv(\"../tests/sum_of_two_col_missing_entry.csv\")\n",
    "remove_empty_entries(example5)"
   ]
  },
  {
   "cell_type": "code",
   "execution_count": null,
   "id": "b2c48a0a",
   "metadata": {},
   "outputs": [],
   "source": [
    "from tailing import tailing\n",
    "\n",
    "example6 = load_csv(\"../tests/sum_with_extra_col_row.csv\")\n",
    "tailing(example6)"
   ]
  },
  {
   "cell_type": "code",
   "execution_count": null,
   "id": "288e054a",
   "metadata": {},
   "outputs": [],
   "source": [
    "from main import *\n",
    "\n",
    "filled = autofill(\"../tests/avg_of_three_rows.csv\")\n",
    "# print(filled)\n",
    "check(filled, \"../tests/avg_of_three_rows_expected.csv\")"
   ]
  },
  {
   "cell_type": "code",
   "execution_count": 40,
   "metadata": {},
   "outputs": [],
   "source": [
    "from multiple_rows import multiple_row_sum_avg, fill_multiple_row_sum_avg\n",
    "\n",
    "file = \"../tests/sum_of_ten_rows.csv\"\n",
    "example1 = load_csv(file)\n",
    "op, result = multiple_row_sum_avg(example1)\n",
    "# print(op, result)\n",
    "\n",
    "filled = fill_multiple_row_sum_avg(example1, op, result)\n",
    "# print(filled)\n",
    "\n",
    "file = file[:-4] + \"_expected.csv\"\n",
    "expected = load_csv(file)\n",
    "# print(expected.compare(filled))\n",
    "pd.testing.assert_frame_equal(expected, filled, check_dtype = False, atol = 0.01)"
   ]
  },
  {
   "cell_type": "code",
   "execution_count": null,
   "metadata": {},
   "outputs": [],
   "source": [
    "from main import autofill, load_csv, check\n",
    "\n",
    "example7 = load_csv(\"../tests/lb_to_kg.csv\")\n",
    "\n",
    "_, result = autofill(example7)\n",
    "\n",
    "example7 = \"../tests/lb_to_kg_expected.csv\"\n",
    "check(result, example7)"
   ]
  },
  {
   "cell_type": "code",
   "execution_count": null,
   "metadata": {},
   "outputs": [],
   "source": [
    "file_name = \"../tests/col1_divide_col2.csv\"\n",
    "example = load_csv(file_name)\n",
    "method = ez_rel(example)\n",
    "filled = ez_rel_fill(example, method)\n",
    "\n",
    "from main import check\n",
    "file_name = file_name[:-4] + \"_expected.csv\"\n",
    "check(filled, file_name)"
   ]
  },
  {
   "cell_type": "code",
   "execution_count": null,
   "metadata": {},
   "outputs": [],
   "source": [
    "# def str_filter(table):\n",
    "#     if isinstance(table[0][0], int) and isinstance(table[1][0], str):\n",
    "#         filter_col = 1\n",
    "#     elif isinstance(table[1][0], int) and isinstance(table[0][0], str):\n",
    "#         filter_col = 0\n",
    "#     else:\n",
    "#         return False, ''\n",
    "\n",
    "#     examples = table[2].dropna()\n",
    "#     num = len(examples)\n",
    "\n",
    "#     sum = 0\n",
    "#     count = 0\n",
    "#     trial = True\n",
    "#     val_col = (int) (not filter_col)\n",
    "\n",
    "#     op = 'sum'\n",
    "\n",
    "#     f = table[filter_col][0]\n",
    "#     for i in range(num):\n",
    "#         if table[filter_col][i] == f:\n",
    "#             sum += table[val_col][i]\n",
    "#             count += 1\n",
    "#         else:\n",
    "#             avg = sum / count\n",
    "#             if (filter == table[col][0]):\n",
    "#                 if (math.isclose(avg, table[2][0], rel_tol = 0.01)):\n",
    "#                     op = \"avg\"\n",
    "\n",
    "#             for j in range(count):\n",
    "#                 prev = table[2][i-j-1]\n",
    "#                 if op == \"avg\" and not (math.isclose(avg, prev, rel_tol = 0.01)):\n",
    "#                     trial = False\n",
    "#                     break\n",
    "#                 if op == \"sum\" and (prev != sum):\n",
    "#                     trial = False\n",
    "#                     break\n",
    "\n",
    "#             f = table[filter_col][i]\n",
    "#             sum = table[val_col][i]\n",
    "#             count = 1\n",
    "\n",
    "#         if not trial:\n",
    "#             break\n",
    "#         i +=1 \n",
    "\n",
    "\n",
    "\n",
    "\n",
    "        \n"
   ]
  },
  {
   "cell_type": "code",
   "execution_count": 92,
   "metadata": {},
   "outputs": [
    {
     "data": {
      "text/plain": [
       "(0, 'sum')"
      ]
     },
     "execution_count": 92,
     "metadata": {},
     "output_type": "execute_result"
    }
   ],
   "source": [
    "from multiple_rows import filter_sum_avg\n",
    "\n",
    "file_name = \"../tests/str_filter_on_col1_sum.csv\"\n",
    "example = load_csv(file_name)\n",
    "filter_sum_avg(example)"
   ]
  },
  {
   "cell_type": "code",
   "execution_count": 46,
   "metadata": {},
   "outputs": [],
   "source": [
    "# def bmi(table, w, h, w_unit, h_unit):\n",
    "#     row_num, col_num = table.shape\n",
    "\n",
    "#     if col_num != 3:\n",
    "#         return False\n",
    "    \n",
    "#     examples = table[col_num-1].dropna()\n",
    "#     num = len(examples)\n",
    "\n",
    "#     for i in range(num):\n",
    "#         height = float(table.iloc[i,h])\n",
    "#         weight = float(table.iloc[i,w])\n",
    "#         bmi = float(table.iloc[i,2])\n",
    "        \n",
    "#         if w_unit == \"lb\":\n",
    "#             weight *= 0.453592\n",
    "\n",
    "#         if h_unit == \"in\":\n",
    "#             height = height * 2.54 / 100\n",
    "#         elif h_unit == 'cm':\n",
    "#             height /= 100\n",
    "        \n",
    "#         if not math.isclose(weight / (height ** 2), bmi , rel_tol = 0.01):\n",
    "#             print(height, weight)\n",
    "#             return False\n",
    "        \n",
    "#     return True\n"
   ]
  },
  {
   "cell_type": "code",
   "execution_count": 96,
   "metadata": {},
   "outputs": [],
   "source": [
    "# def bmr(example, gender_col, age_col, weight_col, height_col, w_unit, h_unit):\n",
    "#     row_num, col_num = example.shape\n",
    "\n",
    "#     if col_num != 5:\n",
    "#         return False\n",
    "\n",
    "#     for i in range(row_num):\n",
    "#         try:\n",
    "#             height = float(example.iloc[i,height_col])\n",
    "#             weight = float(example.iloc[i,weight_col])\n",
    "#             age = int(example.iloc[i,age_col])\n",
    "#             gender = example.iloc[i,gender_col]\n",
    "#             bmr = float(example.iloc[i,4])\n",
    "#         except ValueError:\n",
    "#             # print(\"value error\")\n",
    "#             return False\n",
    "\n",
    "#         if w_unit == \"lb\":\n",
    "#             weight *= 0.453592\n",
    "\n",
    "#         if h_unit == \"in\":\n",
    "#             height = height * 2.54\n",
    "\n",
    "#         if gender[0].lower() == 'f':\n",
    "#             calculate = 447.593 + (9.247 * weight) + (3.098 * height) - (4.330 * age)\n",
    "#         elif gender[0].lower() == 'm':\n",
    "#             calculate = 88.362 + (13.397 * weight) + (4.799 * height) - (5.677 * age)\n",
    "\n",
    "#         if not math.isclose(calculate, bmr , rel_tol = 0.01):\n",
    "#             # print(age,height,weight,gender)\n",
    "#             return False\n",
    "        \n",
    "#     return True\n"
   ]
  },
  {
   "cell_type": "code",
   "execution_count": 122,
   "metadata": {},
   "outputs": [],
   "source": [
    "# def bai(example, c_col, h_col, c_unit, h_unit):\n",
    "#     row_num, col_num = example.shape\n",
    "\n",
    "#     if col_num != 3:\n",
    "#         return False\n",
    "\n",
    "#     for i in range(row_num):\n",
    "#         try:\n",
    "#             hip_circ = float(example.iloc[i,c_col])\n",
    "#             height = float(example.iloc[i,h_col])\n",
    "#             bai = float(example.iloc[i, 2])\n",
    "\n",
    "#             if c_unit == \"in\":\n",
    "#                 hip_circ *= 2.54\n",
    "\n",
    "#             if h_unit == \"in\":\n",
    "#                 height = height * 2.54 / 100\n",
    "#             elif h_unit == \"cm\":\n",
    "#                 height /= 100\n",
    "\n",
    "#         except ValueError:\n",
    "#             return False\n",
    "        \n",
    "#         calculate = ((hip_circ / height) ** 1.5) - 18\n",
    "\n",
    "#         if not math.isclose(calculate, bai , rel_tol = 0.01):\n",
    "#             print(hip_circ, height, bai, calculate)\n",
    "#             return False\n",
    "        \n",
    "#     return True"
   ]
  },
  {
   "cell_type": "code",
   "execution_count": 127,
   "metadata": {},
   "outputs": [],
   "source": [
    "from itertools import permutations, product\n",
    "\n",
    "from bmi import bmi\n",
    "from bmr import bmr\n",
    "from bai import bai\n",
    "\n",
    "def wh_perm(num):\n",
    "    cols = list(permutations(range(0, num)))\n",
    "    \n",
    "    wh_units = [[\"kg\", \"lb\"], [\"cm\", \"in\"]]\n",
    "    units = list(product(*wh_units))\n",
    "\n",
    "    combined = []\n",
    "    for i in cols:\n",
    "        for j in units:\n",
    "            temp = i + j \n",
    "            combined.append(temp)\n",
    "    return [list(t) for t in combined]\n",
    "\n",
    "def hh_perm(num):\n",
    "    cols = list(permutations(range(0, num)))\n",
    "\n",
    "    h_units = [[\"cm\", \"in\"], [\"cm\", \"in\"]]\n",
    "    units = list(product(*h_units))\n",
    "\n",
    "    combined = []\n",
    "    for i in cols:\n",
    "        for j in units: \n",
    "            temp = i + j\n",
    "            combined.append(temp)\n",
    "    return [list(t) for t in combined]\n",
    "\n",
    "\n",
    "def domain_knowledge_formula(table):\n",
    "    row_num, col_num = table.shape\n",
    "    \n",
    "    examples = table[col_num-1].dropna()\n",
    "    num = len(examples)\n",
    "\n",
    "    if (pd.api.types.is_numeric_dtype(example.iloc[0][0])):\n",
    "        examples = table[:][:num]\n",
    "    else:\n",
    "        examples = table[:][1:num]\n",
    "\n",
    "    domain_knowledge = {}\n",
    "\n",
    "    bmi_combined = wh_perm(2)\n",
    "    domain_knowledge[bmi] = bmi_combined\n",
    "\n",
    "    bmr_combined = wh_perm(4)\n",
    "    domain_knowledge[bmr] = bmr_combined\n",
    "\n",
    "    bai_combined = hh_perm(2)\n",
    "    domain_knowledge[bai] = bai_combined\n",
    "    # print(bai_combined)\n",
    "    \n",
    "    for key, value in domain_knowledge.items():\n",
    "        for v in value:\n",
    "            # print(v)\n",
    "            formula = key(examples, *v)\n",
    "            if formula:\n",
    "                return formula\n",
    "    \n",
    "    return False\n",
    "\n"
   ]
  },
  {
   "cell_type": "code",
   "execution_count": 129,
   "metadata": {},
   "outputs": [
    {
     "name": "stdout",
     "output_type": "stream",
     "text": [
      "0.8848999999999999 164.98\n",
      "2.247646 164.98\n",
      "0.8848999999999999 74.83360816\n",
      "2.247646 74.83360816\n",
      "1.6498 88.49\n",
      "4.190492 88.49\n",
      "1.6498 40.138356079999994\n",
      "4.190492 40.138356079999994\n",
      "164.98 0.8848999999999999 374.82 2527.690818772998\n",
      "164.98 2.247646 374.82 610.8616072149723\n",
      "419.0492 0.8848999999999999 374.82 10287.195404574613\n",
      "419.0492 2.247646 374.82 2527.6908187729978\n"
     ]
    },
    {
     "data": {
      "text/plain": [
       "True"
      ]
     },
     "execution_count": 129,
     "metadata": {},
     "output_type": "execute_result"
    }
   ],
   "source": [
    "file_name = \"../tests/bai.csv\"\n",
    "example = load_csv(file_name)\n",
    "# example = example.iloc[1:6,:]\n",
    "example = example.iloc[:5,:]\n",
    "# bmi(example, 1, 0, \"kg\", \"cm\")\n",
    "# bmr(example, \"kg\", \"cm\", 3, 0, 2, 1)\n",
    "# bai(example, 1, 0, \"cm\", \"cm\")\n",
    "domain_knowledge_formula(example)"
   ]
  },
  {
   "cell_type": "code",
   "execution_count": null,
   "metadata": {},
   "outputs": [],
   "source": []
  }
 ],
 "metadata": {
  "kernelspec": {
   "display_name": "Python 3 (ipykernel)",
   "language": "python",
   "name": "python3"
  },
  "language_info": {
   "codemirror_mode": {
    "name": "ipython",
    "version": 3
   },
   "file_extension": ".py",
   "mimetype": "text/x-python",
   "name": "python",
   "nbconvert_exporter": "python",
   "pygments_lexer": "ipython3",
   "version": "3.9.18"
  }
 },
 "nbformat": 4,
 "nbformat_minor": 5
}
